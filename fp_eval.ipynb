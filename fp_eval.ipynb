{
 "cells": [
  {
   "cell_type": "code",
   "execution_count": 1,
   "metadata": {},
   "outputs": [
    {
     "name": "stderr",
     "output_type": "stream",
     "text": [
      "/storage/coda1/p-mtao8/0/krojas6/.conda/envs/fp/lib/python3.8/site-packages/tqdm/auto.py:21: TqdmWarning: IProgress not found. Please update jupyter and ipywidgets. See https://ipywidgets.readthedocs.io/en/stable/user_install.html\n",
      "  from .autonotebook import tqdm as notebook_tqdm\n",
      "2024-05-05 14:22:42.670691: W tensorflow/stream_executor/platform/default/dso_loader.cc:60] Could not load dynamic library 'libcudart.so.11.0'; dlerror: libcudart.so.11.0: cannot open shared object file: No such file or directory; LD_LIBRARY_PATH: /opt/slurm/current/lib:/usr/local/pace-apps/spack/packages/linux-rhel7-x86_64/gcc-10.3.0/mvapich2-2.3.6-ouywalrqjnakjlhjxgunwqssb3iongrc/lib:/opt/slurm/current/lib:/usr/local/pace-apps/spack/packages/linux-rhel7-x86_64/gcc-4.8.5/libxml2-2.9.13-d4fgivwilgwkucth7kcsmpbcefmngewz/lib:/usr/local/pace-apps/spack/packages/linux-rhel7-x86_64/gcc-4.8.5/libiconv-1.16-pbdcxjpgrdv3k3eaisme7cw5fnl7zjmh/lib:/usr/local/pace-apps/spack/packages/linux-rhel7-x86_64/gcc-4.8.5/libpciaccess-0.16-wfowrnar2ry5ajqjs3pnjlhrlowivbxw/lib:/usr/local/pace-apps/spack/packages/linux-rhel7-x86_64/gcc-4.8.5/gcc-10.3.0-o57x6h2gubo7bzh7evmy4mvibdqrlghr/lib64:/usr/local/pace-apps/spack/packages/linux-rhel7-x86_64/gcc-4.8.5/gcc-10.3.0-o57x6h2gubo7bzh7evmy4mvibdqrlghr/lib:/usr/local/pace-apps/spack/packages/linux-rhel7-x86_64/gcc-4.8.5/zstd-1.5.2-726gdzljowscmdg6vy2txu3q5j3ncfc6/lib:/usr/local/pace-apps/spack/packages/linux-rhel7-x86_64/gcc-4.8.5/mpc-1.2.1-zoh6w2uzicslpz2vw6bp2cd3vawomaag/lib:/usr/local/pace-apps/spack/packages/linux-rhel7-x86_64/gcc-4.8.5/mpfr-4.1.0-32gcbvddeljaaw35yzaciq5ostd4o2d4/lib:/usr/local/pace-apps/spack/packages/linux-rhel7-x86_64/gcc-4.8.5/gmp-6.2.1-mw6xsf4g4ul4v57rnyyxtufvcvwpao6p/lib::\n",
      "2024-05-05 14:22:42.671044: I tensorflow/stream_executor/cuda/cudart_stub.cc:29] Ignore above cudart dlerror if you do not have a GPU set up on your machine.\n"
     ]
    }
   ],
   "source": [
    "import torch\n",
    "import sde_lib\n",
    "import datasets\n",
    "import sampling\n",
    "\n",
    "from models import ddpm\n",
    "from models import utils as mutils\n",
    "import configs.default_cifar10_configs\n",
    "import configs.vp.ddpm.cifar10_continuous"
   ]
  },
  {
   "cell_type": "code",
   "execution_count": 2,
   "metadata": {},
   "outputs": [],
   "source": [
    "\n",
    "config = configs.vp.ddpm.cifar10_continuous.get_config()\n",
    "# print(config)\n",
    "N = 250\n",
    "sde = sde_lib.VPSDE(beta_min=config.model.beta_min, beta_max=config.model.beta_max, N=N)\n",
    "sampling_eps = 1e-3\n",
    "score_model = mutils.create_model(config)\n",
    "real_score_model = mutils.get_score_fn(sde,score_model,False,True)"
   ]
  },
  {
   "cell_type": "code",
   "execution_count": 3,
   "metadata": {},
   "outputs": [
    {
     "name": "stderr",
     "output_type": "stream",
     "text": [
      "2024-05-05 14:23:47.311770: I tensorflow/compiler/jit/xla_cpu_device.cc:41] Not creating XLA devices, tf_xla_enable_xla_devices not set\n",
      "2024-05-05 14:23:47.374380: W tensorflow/stream_executor/platform/default/dso_loader.cc:60] Could not load dynamic library 'libcuda.so.1'; dlerror: libcuda.so.1: cannot open shared object file: No such file or directory; LD_LIBRARY_PATH: /opt/slurm/current/lib:/usr/local/pace-apps/spack/packages/linux-rhel7-x86_64/gcc-10.3.0/mvapich2-2.3.6-ouywalrqjnakjlhjxgunwqssb3iongrc/lib:/opt/slurm/current/lib:/usr/local/pace-apps/spack/packages/linux-rhel7-x86_64/gcc-4.8.5/libxml2-2.9.13-d4fgivwilgwkucth7kcsmpbcefmngewz/lib:/usr/local/pace-apps/spack/packages/linux-rhel7-x86_64/gcc-4.8.5/libiconv-1.16-pbdcxjpgrdv3k3eaisme7cw5fnl7zjmh/lib:/usr/local/pace-apps/spack/packages/linux-rhel7-x86_64/gcc-4.8.5/libpciaccess-0.16-wfowrnar2ry5ajqjs3pnjlhrlowivbxw/lib:/usr/local/pace-apps/spack/packages/linux-rhel7-x86_64/gcc-4.8.5/gcc-10.3.0-o57x6h2gubo7bzh7evmy4mvibdqrlghr/lib64:/usr/local/pace-apps/spack/packages/linux-rhel7-x86_64/gcc-4.8.5/gcc-10.3.0-o57x6h2gubo7bzh7evmy4mvibdqrlghr/lib:/usr/local/pace-apps/spack/packages/linux-rhel7-x86_64/gcc-4.8.5/zstd-1.5.2-726gdzljowscmdg6vy2txu3q5j3ncfc6/lib:/usr/local/pace-apps/spack/packages/linux-rhel7-x86_64/gcc-4.8.5/mpc-1.2.1-zoh6w2uzicslpz2vw6bp2cd3vawomaag/lib:/usr/local/pace-apps/spack/packages/linux-rhel7-x86_64/gcc-4.8.5/mpfr-4.1.0-32gcbvddeljaaw35yzaciq5ostd4o2d4/lib:/usr/local/pace-apps/spack/packages/linux-rhel7-x86_64/gcc-4.8.5/gmp-6.2.1-mw6xsf4g4ul4v57rnyyxtufvcvwpao6p/lib::\n",
      "2024-05-05 14:23:47.375401: W tensorflow/stream_executor/cuda/cuda_driver.cc:326] failed call to cuInit: UNKNOWN ERROR (303)\n",
      "2024-05-05 14:23:47.376280: I tensorflow/stream_executor/cuda/cuda_diagnostics.cc:156] kernel driver does not appear to be running on this host (login-phoenix-slurm-3.pace.gatech.edu): /proc/driver/nvidia/version does not exist\n",
      "2024-05-05 14:23:47.416077: I tensorflow/core/platform/cpu_feature_guard.cc:142] This TensorFlow binary is optimized with oneAPI Deep Neural Network Library (oneDNN) to use the following CPU instructions in performance-critical operations:  AVX512F\n",
      "To enable them in other operations, rebuild TensorFlow with the appropriate compiler flags.\n",
      "2024-05-05 14:23:47.419744: I tensorflow/compiler/jit/xla_gpu_device.cc:99] Not creating XLA devices, tf_xla_enable_xla_devices not set\n"
     ]
    }
   ],
   "source": [
    "train_ds, eval_ds, _ = datasets.get_dataset(config,\n",
    "                                            uniform_dequantization=config.data.uniform_dequantization,\n",
    "                                            evaluation=True)"
   ]
  },
  {
   "cell_type": "code",
   "execution_count": 4,
   "metadata": {},
   "outputs": [
    {
     "name": "stderr",
     "output_type": "stream",
     "text": [
      "  0%|          | 0/250 [00:00<?, ?it/s]"
     ]
    },
    {
     "name": "stderr",
     "output_type": "stream",
     "text": [
      "                                                 \r"
     ]
    },
    {
     "ename": "KeyboardInterrupt",
     "evalue": "",
     "output_type": "error",
     "traceback": [
      "\u001b[0;31m---------------------------------------------------------------------------\u001b[0m",
      "\u001b[0;31mKeyboardInterrupt\u001b[0m                         Traceback (most recent call last)",
      "Cell \u001b[0;32mIn[4], line 7\u001b[0m\n\u001b[1;32m      3\u001b[0m inverse_scaler \u001b[38;5;241m=\u001b[39m datasets\u001b[38;5;241m.\u001b[39mget_data_inverse_scaler(config)\n\u001b[1;32m      5\u001b[0m sampling_fn \u001b[38;5;241m=\u001b[39m sampling\u001b[38;5;241m.\u001b[39mget_sampling_fn(config, sde, sampling_shape, inverse_scaler, sampling_eps)\n\u001b[0;32m----> 7\u001b[0m samples, n \u001b[38;5;241m=\u001b[39m \u001b[43msampling_fn\u001b[49m\u001b[43m(\u001b[49m\u001b[43mscore_model\u001b[49m\u001b[43m)\u001b[49m\n\u001b[1;32m      8\u001b[0m \u001b[38;5;28mprint\u001b[39m(samples)\n",
      "File \u001b[0;32m/storage/coda1/p-mtao8/0/krojas6/repos/fp-diffusion/sampling.py:408\u001b[0m, in \u001b[0;36mget_pc_sampler.<locals>.pc_sampler\u001b[0;34m(model)\u001b[0m\n\u001b[1;32m    406\u001b[0m   vec_t \u001b[38;5;241m=\u001b[39m torch\u001b[38;5;241m.\u001b[39mones(shape[\u001b[38;5;241m0\u001b[39m], device\u001b[38;5;241m=\u001b[39mt\u001b[38;5;241m.\u001b[39mdevice) \u001b[38;5;241m*\u001b[39m t\n\u001b[1;32m    407\u001b[0m   x, x_mean \u001b[38;5;241m=\u001b[39m corrector_update_fn(x, vec_t, model\u001b[38;5;241m=\u001b[39mmodel)\n\u001b[0;32m--> 408\u001b[0m   x, x_mean \u001b[38;5;241m=\u001b[39m \u001b[43mpredictor_update_fn\u001b[49m\u001b[43m(\u001b[49m\u001b[43mx\u001b[49m\u001b[43m,\u001b[49m\u001b[43m \u001b[49m\u001b[43mvec_t\u001b[49m\u001b[43m,\u001b[49m\u001b[43m \u001b[49m\u001b[43mmodel\u001b[49m\u001b[38;5;241;43m=\u001b[39;49m\u001b[43mmodel\u001b[49m\u001b[43m)\u001b[49m\n\u001b[1;32m    410\u001b[0m \u001b[38;5;28;01mreturn\u001b[39;00m inverse_scaler(x_mean \u001b[38;5;28;01mif\u001b[39;00m denoise \u001b[38;5;28;01melse\u001b[39;00m x), sde\u001b[38;5;241m.\u001b[39mN \u001b[38;5;241m*\u001b[39m (n_steps \u001b[38;5;241m+\u001b[39m \u001b[38;5;241m1\u001b[39m)\n",
      "File \u001b[0;32m/storage/coda1/p-mtao8/0/krojas6/repos/fp-diffusion/sampling.py:342\u001b[0m, in \u001b[0;36mshared_predictor_update_fn\u001b[0;34m(x, t, sde, model, predictor, probability_flow, continuous)\u001b[0m\n\u001b[1;32m    340\u001b[0m \u001b[38;5;28;01melse\u001b[39;00m:\n\u001b[1;32m    341\u001b[0m   predictor_obj \u001b[38;5;241m=\u001b[39m predictor(sde, score_fn, probability_flow)\n\u001b[0;32m--> 342\u001b[0m \u001b[38;5;28;01mreturn\u001b[39;00m \u001b[43mpredictor_obj\u001b[49m\u001b[38;5;241;43m.\u001b[39;49m\u001b[43mupdate_fn\u001b[49m\u001b[43m(\u001b[49m\u001b[43mx\u001b[49m\u001b[43m,\u001b[49m\u001b[43m \u001b[49m\u001b[43mt\u001b[49m\u001b[43m)\u001b[49m\n",
      "File \u001b[0;32m/storage/coda1/p-mtao8/0/krojas6/repos/fp-diffusion/sampling.py:185\u001b[0m, in \u001b[0;36mEulerMaruyamaPredictor.update_fn\u001b[0;34m(self, x, t)\u001b[0m\n\u001b[1;32m    183\u001b[0m dt \u001b[38;5;241m=\u001b[39m \u001b[38;5;241m-\u001b[39m\u001b[38;5;241m1.\u001b[39m \u001b[38;5;241m/\u001b[39m \u001b[38;5;28mself\u001b[39m\u001b[38;5;241m.\u001b[39mrsde\u001b[38;5;241m.\u001b[39mN\n\u001b[1;32m    184\u001b[0m z \u001b[38;5;241m=\u001b[39m torch\u001b[38;5;241m.\u001b[39mrandn_like(x)\n\u001b[0;32m--> 185\u001b[0m drift, diffusion \u001b[38;5;241m=\u001b[39m \u001b[38;5;28;43mself\u001b[39;49m\u001b[38;5;241;43m.\u001b[39;49m\u001b[43mrsde\u001b[49m\u001b[38;5;241;43m.\u001b[39;49m\u001b[43msde\u001b[49m\u001b[43m(\u001b[49m\u001b[43mx\u001b[49m\u001b[43m,\u001b[49m\u001b[43m \u001b[49m\u001b[43mt\u001b[49m\u001b[43m)\u001b[49m\n\u001b[1;32m    186\u001b[0m x_mean \u001b[38;5;241m=\u001b[39m x \u001b[38;5;241m+\u001b[39m drift \u001b[38;5;241m*\u001b[39m dt\n\u001b[1;32m    187\u001b[0m x \u001b[38;5;241m=\u001b[39m x_mean \u001b[38;5;241m+\u001b[39m diffusion[:, \u001b[38;5;28;01mNone\u001b[39;00m, \u001b[38;5;28;01mNone\u001b[39;00m, \u001b[38;5;28;01mNone\u001b[39;00m] \u001b[38;5;241m*\u001b[39m np\u001b[38;5;241m.\u001b[39msqrt(\u001b[38;5;241m-\u001b[39mdt) \u001b[38;5;241m*\u001b[39m z\n",
      "File \u001b[0;32m/storage/coda1/p-mtao8/0/krojas6/repos/fp-diffusion/sde_lib.py:105\u001b[0m, in \u001b[0;36mSDE.reverse.<locals>.RSDE.sde\u001b[0;34m(self, x, t)\u001b[0m\n\u001b[1;32m    103\u001b[0m \u001b[38;5;250m\u001b[39m\u001b[38;5;124;03m\"\"\"Create the drift and diffusion functions for the reverse SDE/ODE.\"\"\"\u001b[39;00m\n\u001b[1;32m    104\u001b[0m drift, diffusion \u001b[38;5;241m=\u001b[39m sde_fn(x, t)\n\u001b[0;32m--> 105\u001b[0m score \u001b[38;5;241m=\u001b[39m \u001b[43mscore_fn\u001b[49m\u001b[43m(\u001b[49m\u001b[43mx\u001b[49m\u001b[43m,\u001b[49m\u001b[43m \u001b[49m\u001b[43mt\u001b[49m\u001b[43m)\u001b[49m\n\u001b[1;32m    106\u001b[0m drift \u001b[38;5;241m=\u001b[39m drift \u001b[38;5;241m-\u001b[39m diffusion[:, \u001b[38;5;28;01mNone\u001b[39;00m, \u001b[38;5;28;01mNone\u001b[39;00m, \u001b[38;5;28;01mNone\u001b[39;00m] \u001b[38;5;241m*\u001b[39m\u001b[38;5;241m*\u001b[39m \u001b[38;5;241m2\u001b[39m \u001b[38;5;241m*\u001b[39m score \u001b[38;5;241m*\u001b[39m (\u001b[38;5;241m0.5\u001b[39m \u001b[38;5;28;01mif\u001b[39;00m \u001b[38;5;28mself\u001b[39m\u001b[38;5;241m.\u001b[39mprobability_flow \u001b[38;5;28;01melse\u001b[39;00m \u001b[38;5;241m1.\u001b[39m)\n\u001b[1;32m    107\u001b[0m \u001b[38;5;66;03m# Set the diffusion function to zero for ODEs.\u001b[39;00m\n",
      "File \u001b[0;32m/storage/coda1/p-mtao8/0/krojas6/repos/fp-diffusion/models/utils.py:151\u001b[0m, in \u001b[0;36mget_score_fn.<locals>.score_fn\u001b[0;34m(x, t)\u001b[0m\n\u001b[1;32m    146\u001b[0m \u001b[38;5;28;01mif\u001b[39;00m continuous \u001b[38;5;129;01mor\u001b[39;00m \u001b[38;5;28misinstance\u001b[39m(sde, sde_lib\u001b[38;5;241m.\u001b[39msubVPSDE):\n\u001b[1;32m    147\u001b[0m   \u001b[38;5;66;03m# For VP-trained models, t=0 corresponds to the lowest noise level\u001b[39;00m\n\u001b[1;32m    148\u001b[0m   \u001b[38;5;66;03m# The maximum value of time embedding is assumed to 999 for\u001b[39;00m\n\u001b[1;32m    149\u001b[0m   \u001b[38;5;66;03m# continuously-trained models.\u001b[39;00m\n\u001b[1;32m    150\u001b[0m   labels \u001b[38;5;241m=\u001b[39m t \u001b[38;5;241m*\u001b[39m \u001b[38;5;241m999\u001b[39m\n\u001b[0;32m--> 151\u001b[0m   score \u001b[38;5;241m=\u001b[39m \u001b[43mmodel_fn\u001b[49m\u001b[43m(\u001b[49m\u001b[43mx\u001b[49m\u001b[43m,\u001b[49m\u001b[43m \u001b[49m\u001b[43mlabels\u001b[49m\u001b[43m)\u001b[49m\n\u001b[1;32m    152\u001b[0m   std \u001b[38;5;241m=\u001b[39m sde\u001b[38;5;241m.\u001b[39mmarginal_prob(torch\u001b[38;5;241m.\u001b[39mzeros_like(x), t)[\u001b[38;5;241m1\u001b[39m]\n\u001b[1;32m    153\u001b[0m \u001b[38;5;28;01melse\u001b[39;00m:\n\u001b[1;32m    154\u001b[0m   \u001b[38;5;66;03m# For VP-trained models, t=0 corresponds to the lowest noise level\u001b[39;00m\n",
      "File \u001b[0;32m/storage/coda1/p-mtao8/0/krojas6/repos/fp-diffusion/models/utils.py:121\u001b[0m, in \u001b[0;36mget_model_fn.<locals>.model_fn\u001b[0;34m(x, labels)\u001b[0m\n\u001b[1;32m    119\u001b[0m \u001b[38;5;28;01mif\u001b[39;00m \u001b[38;5;129;01mnot\u001b[39;00m train:\n\u001b[1;32m    120\u001b[0m   model\u001b[38;5;241m.\u001b[39meval()\n\u001b[0;32m--> 121\u001b[0m   \u001b[38;5;28;01mreturn\u001b[39;00m \u001b[43mmodel\u001b[49m\u001b[43m(\u001b[49m\u001b[43mx\u001b[49m\u001b[43m,\u001b[49m\u001b[43m \u001b[49m\u001b[43mlabels\u001b[49m\u001b[43m)\u001b[49m\n\u001b[1;32m    122\u001b[0m \u001b[38;5;28;01melse\u001b[39;00m:\n\u001b[1;32m    123\u001b[0m   model\u001b[38;5;241m.\u001b[39mtrain()\n",
      "File \u001b[0;32m/storage/coda1/p-mtao8/0/krojas6/.conda/envs/fp/lib/python3.8/site-packages/torch/nn/modules/module.py:889\u001b[0m, in \u001b[0;36mModule._call_impl\u001b[0;34m(self, *input, **kwargs)\u001b[0m\n\u001b[1;32m    887\u001b[0m     result \u001b[38;5;241m=\u001b[39m \u001b[38;5;28mself\u001b[39m\u001b[38;5;241m.\u001b[39m_slow_forward(\u001b[38;5;241m*\u001b[39m\u001b[38;5;28minput\u001b[39m, \u001b[38;5;241m*\u001b[39m\u001b[38;5;241m*\u001b[39mkwargs)\n\u001b[1;32m    888\u001b[0m \u001b[38;5;28;01melse\u001b[39;00m:\n\u001b[0;32m--> 889\u001b[0m     result \u001b[38;5;241m=\u001b[39m \u001b[38;5;28;43mself\u001b[39;49m\u001b[38;5;241;43m.\u001b[39;49m\u001b[43mforward\u001b[49m\u001b[43m(\u001b[49m\u001b[38;5;241;43m*\u001b[39;49m\u001b[38;5;28;43minput\u001b[39;49m\u001b[43m,\u001b[49m\u001b[43m \u001b[49m\u001b[38;5;241;43m*\u001b[39;49m\u001b[38;5;241;43m*\u001b[39;49m\u001b[43mkwargs\u001b[49m\u001b[43m)\u001b[49m\n\u001b[1;32m    890\u001b[0m \u001b[38;5;28;01mfor\u001b[39;00m hook \u001b[38;5;129;01min\u001b[39;00m itertools\u001b[38;5;241m.\u001b[39mchain(\n\u001b[1;32m    891\u001b[0m         _global_forward_hooks\u001b[38;5;241m.\u001b[39mvalues(),\n\u001b[1;32m    892\u001b[0m         \u001b[38;5;28mself\u001b[39m\u001b[38;5;241m.\u001b[39m_forward_hooks\u001b[38;5;241m.\u001b[39mvalues()):\n\u001b[1;32m    893\u001b[0m     hook_result \u001b[38;5;241m=\u001b[39m hook(\u001b[38;5;28mself\u001b[39m, \u001b[38;5;28minput\u001b[39m, result)\n",
      "File \u001b[0;32m/storage/coda1/p-mtao8/0/krojas6/.conda/envs/fp/lib/python3.8/site-packages/torch/nn/parallel/data_parallel.py:149\u001b[0m, in \u001b[0;36mDataParallel.forward\u001b[0;34m(self, *inputs, **kwargs)\u001b[0m\n\u001b[1;32m    147\u001b[0m \u001b[38;5;28;01mdef\u001b[39;00m \u001b[38;5;21mforward\u001b[39m(\u001b[38;5;28mself\u001b[39m, \u001b[38;5;241m*\u001b[39minputs, \u001b[38;5;241m*\u001b[39m\u001b[38;5;241m*\u001b[39mkwargs):\n\u001b[1;32m    148\u001b[0m     \u001b[38;5;28;01mif\u001b[39;00m \u001b[38;5;129;01mnot\u001b[39;00m \u001b[38;5;28mself\u001b[39m\u001b[38;5;241m.\u001b[39mdevice_ids:\n\u001b[0;32m--> 149\u001b[0m         \u001b[38;5;28;01mreturn\u001b[39;00m \u001b[38;5;28;43mself\u001b[39;49m\u001b[38;5;241;43m.\u001b[39;49m\u001b[43mmodule\u001b[49m\u001b[43m(\u001b[49m\u001b[38;5;241;43m*\u001b[39;49m\u001b[43minputs\u001b[49m\u001b[43m,\u001b[49m\u001b[43m \u001b[49m\u001b[38;5;241;43m*\u001b[39;49m\u001b[38;5;241;43m*\u001b[39;49m\u001b[43mkwargs\u001b[49m\u001b[43m)\u001b[49m\n\u001b[1;32m    151\u001b[0m     \u001b[38;5;28;01mfor\u001b[39;00m t \u001b[38;5;129;01min\u001b[39;00m chain(\u001b[38;5;28mself\u001b[39m\u001b[38;5;241m.\u001b[39mmodule\u001b[38;5;241m.\u001b[39mparameters(), \u001b[38;5;28mself\u001b[39m\u001b[38;5;241m.\u001b[39mmodule\u001b[38;5;241m.\u001b[39mbuffers()):\n\u001b[1;32m    152\u001b[0m         \u001b[38;5;28;01mif\u001b[39;00m t\u001b[38;5;241m.\u001b[39mdevice \u001b[38;5;241m!=\u001b[39m \u001b[38;5;28mself\u001b[39m\u001b[38;5;241m.\u001b[39msrc_device_obj:\n",
      "File \u001b[0;32m/storage/coda1/p-mtao8/0/krojas6/.conda/envs/fp/lib/python3.8/site-packages/torch/nn/modules/module.py:889\u001b[0m, in \u001b[0;36mModule._call_impl\u001b[0;34m(self, *input, **kwargs)\u001b[0m\n\u001b[1;32m    887\u001b[0m     result \u001b[38;5;241m=\u001b[39m \u001b[38;5;28mself\u001b[39m\u001b[38;5;241m.\u001b[39m_slow_forward(\u001b[38;5;241m*\u001b[39m\u001b[38;5;28minput\u001b[39m, \u001b[38;5;241m*\u001b[39m\u001b[38;5;241m*\u001b[39mkwargs)\n\u001b[1;32m    888\u001b[0m \u001b[38;5;28;01melse\u001b[39;00m:\n\u001b[0;32m--> 889\u001b[0m     result \u001b[38;5;241m=\u001b[39m \u001b[38;5;28;43mself\u001b[39;49m\u001b[38;5;241;43m.\u001b[39;49m\u001b[43mforward\u001b[49m\u001b[43m(\u001b[49m\u001b[38;5;241;43m*\u001b[39;49m\u001b[38;5;28;43minput\u001b[39;49m\u001b[43m,\u001b[49m\u001b[43m \u001b[49m\u001b[38;5;241;43m*\u001b[39;49m\u001b[38;5;241;43m*\u001b[39;49m\u001b[43mkwargs\u001b[49m\u001b[43m)\u001b[49m\n\u001b[1;32m    890\u001b[0m \u001b[38;5;28;01mfor\u001b[39;00m hook \u001b[38;5;129;01min\u001b[39;00m itertools\u001b[38;5;241m.\u001b[39mchain(\n\u001b[1;32m    891\u001b[0m         _global_forward_hooks\u001b[38;5;241m.\u001b[39mvalues(),\n\u001b[1;32m    892\u001b[0m         \u001b[38;5;28mself\u001b[39m\u001b[38;5;241m.\u001b[39m_forward_hooks\u001b[38;5;241m.\u001b[39mvalues()):\n\u001b[1;32m    893\u001b[0m     hook_result \u001b[38;5;241m=\u001b[39m hook(\u001b[38;5;28mself\u001b[39m, \u001b[38;5;28minput\u001b[39m, result)\n",
      "File \u001b[0;32m/storage/coda1/p-mtao8/0/krojas6/repos/fp-diffusion/models/ddpm.py:137\u001b[0m, in \u001b[0;36mDDPM.forward\u001b[0;34m(self, x, labels)\u001b[0m\n\u001b[1;32m    134\u001b[0m \u001b[38;5;28;01mfor\u001b[39;00m i_level \u001b[38;5;129;01min\u001b[39;00m \u001b[38;5;28mrange\u001b[39m(\u001b[38;5;28mself\u001b[39m\u001b[38;5;241m.\u001b[39mnum_resolutions):\n\u001b[1;32m    135\u001b[0m   \u001b[38;5;66;03m# Residual blocks for this resolution\u001b[39;00m\n\u001b[1;32m    136\u001b[0m   \u001b[38;5;28;01mfor\u001b[39;00m i_block \u001b[38;5;129;01min\u001b[39;00m \u001b[38;5;28mrange\u001b[39m(\u001b[38;5;28mself\u001b[39m\u001b[38;5;241m.\u001b[39mnum_res_blocks):\n\u001b[0;32m--> 137\u001b[0m     h \u001b[38;5;241m=\u001b[39m \u001b[43mmodules\u001b[49m\u001b[43m[\u001b[49m\u001b[43mm_idx\u001b[49m\u001b[43m]\u001b[49m\u001b[43m(\u001b[49m\u001b[43mhs\u001b[49m\u001b[43m[\u001b[49m\u001b[38;5;241;43m-\u001b[39;49m\u001b[38;5;241;43m1\u001b[39;49m\u001b[43m]\u001b[49m\u001b[43m,\u001b[49m\u001b[43m \u001b[49m\u001b[43mtemb\u001b[49m\u001b[43m)\u001b[49m\n\u001b[1;32m    138\u001b[0m     m_idx \u001b[38;5;241m+\u001b[39m\u001b[38;5;241m=\u001b[39m \u001b[38;5;241m1\u001b[39m\n\u001b[1;32m    139\u001b[0m     \u001b[38;5;28;01mif\u001b[39;00m h\u001b[38;5;241m.\u001b[39mshape[\u001b[38;5;241m-\u001b[39m\u001b[38;5;241m1\u001b[39m] \u001b[38;5;129;01min\u001b[39;00m \u001b[38;5;28mself\u001b[39m\u001b[38;5;241m.\u001b[39mattn_resolutions:\n",
      "File \u001b[0;32m/storage/coda1/p-mtao8/0/krojas6/.conda/envs/fp/lib/python3.8/site-packages/torch/nn/modules/module.py:889\u001b[0m, in \u001b[0;36mModule._call_impl\u001b[0;34m(self, *input, **kwargs)\u001b[0m\n\u001b[1;32m    887\u001b[0m     result \u001b[38;5;241m=\u001b[39m \u001b[38;5;28mself\u001b[39m\u001b[38;5;241m.\u001b[39m_slow_forward(\u001b[38;5;241m*\u001b[39m\u001b[38;5;28minput\u001b[39m, \u001b[38;5;241m*\u001b[39m\u001b[38;5;241m*\u001b[39mkwargs)\n\u001b[1;32m    888\u001b[0m \u001b[38;5;28;01melse\u001b[39;00m:\n\u001b[0;32m--> 889\u001b[0m     result \u001b[38;5;241m=\u001b[39m \u001b[38;5;28;43mself\u001b[39;49m\u001b[38;5;241;43m.\u001b[39;49m\u001b[43mforward\u001b[49m\u001b[43m(\u001b[49m\u001b[38;5;241;43m*\u001b[39;49m\u001b[38;5;28;43minput\u001b[39;49m\u001b[43m,\u001b[49m\u001b[43m \u001b[49m\u001b[38;5;241;43m*\u001b[39;49m\u001b[38;5;241;43m*\u001b[39;49m\u001b[43mkwargs\u001b[49m\u001b[43m)\u001b[49m\n\u001b[1;32m    890\u001b[0m \u001b[38;5;28;01mfor\u001b[39;00m hook \u001b[38;5;129;01min\u001b[39;00m itertools\u001b[38;5;241m.\u001b[39mchain(\n\u001b[1;32m    891\u001b[0m         _global_forward_hooks\u001b[38;5;241m.\u001b[39mvalues(),\n\u001b[1;32m    892\u001b[0m         \u001b[38;5;28mself\u001b[39m\u001b[38;5;241m.\u001b[39m_forward_hooks\u001b[38;5;241m.\u001b[39mvalues()):\n\u001b[1;32m    893\u001b[0m     hook_result \u001b[38;5;241m=\u001b[39m hook(\u001b[38;5;28mself\u001b[39m, \u001b[38;5;28minput\u001b[39m, result)\n",
      "File \u001b[0;32m/storage/coda1/p-mtao8/0/krojas6/repos/fp-diffusion/models/layers.py:653\u001b[0m, in \u001b[0;36mResnetBlockDDPM.forward\u001b[0;34m(self, x, temb)\u001b[0m\n\u001b[1;32m    651\u001b[0m \u001b[38;5;66;03m# Add bias to each feature map conditioned on the time embedding\u001b[39;00m\n\u001b[1;32m    652\u001b[0m \u001b[38;5;28;01mif\u001b[39;00m temb \u001b[38;5;129;01mis\u001b[39;00m \u001b[38;5;129;01mnot\u001b[39;00m \u001b[38;5;28;01mNone\u001b[39;00m:\n\u001b[0;32m--> 653\u001b[0m   h \u001b[38;5;241m+\u001b[39m\u001b[38;5;241m=\u001b[39m \u001b[38;5;28mself\u001b[39m\u001b[38;5;241m.\u001b[39mDense_0(\u001b[38;5;28mself\u001b[39m\u001b[38;5;241m.\u001b[39mact(temb))[:, :, \u001b[38;5;28;01mNone\u001b[39;00m, \u001b[38;5;28;01mNone\u001b[39;00m]\n\u001b[1;32m    654\u001b[0m h \u001b[38;5;241m=\u001b[39m \u001b[38;5;28mself\u001b[39m\u001b[38;5;241m.\u001b[39mact(\u001b[38;5;28mself\u001b[39m\u001b[38;5;241m.\u001b[39mGroupNorm_1(h))\n\u001b[1;32m    655\u001b[0m h \u001b[38;5;241m=\u001b[39m \u001b[38;5;28mself\u001b[39m\u001b[38;5;241m.\u001b[39mDropout_0(h)\n",
      "\u001b[0;31mKeyboardInterrupt\u001b[0m: "
     ]
    }
   ],
   "source": [
    "sampling_shape = (1, config.data.num_channels,\n",
    "                    config.data.image_size, config.data.image_size)\n",
    "inverse_scaler = datasets.get_data_inverse_scaler(config)\n",
    "\n",
    "sampling_fn = sampling.get_sampling_fn(config, sde, sampling_shape, inverse_scaler, sampling_eps)\n",
    "\n",
    "samples, n = sampling_fn(score_model)\n",
    "print(samples)"
   ]
  },
  {
   "cell_type": "code",
   "execution_count": null,
   "metadata": {},
   "outputs": [],
   "source": [
    "device = torch.device('cuda' if torch.cuda.is_available() else 'cpu')\n",
    "ts = torch.linspace(sampling_eps,1,device=device)\n",
    "\n",
    "fp_loss = []\n",
    "fp_loss_fn = sde.PDE(score_model).fp\n",
    "\n",
    "for t in ts :\n",
    "    cur_fp = 0\n",
    "    for x,y in eval_ds:\n",
    "        print(x,y)\n",
    "        cur_fp += fp_loss_fn(x,t).detach().item()\n",
    "    fp_loss.append(cur_fp)\n",
    "\n",
    "\n"
   ]
  },
  {
   "cell_type": "code",
   "execution_count": null,
   "metadata": {},
   "outputs": [],
   "source": [
    "plt.plot(ts.detach().cpu().numpy(), fp_loss)\n",
    "plt.show()"
   ]
  }
 ],
 "metadata": {
  "kernelspec": {
   "display_name": "Python 3",
   "language": "python",
   "name": "python3"
  },
  "language_info": {
   "codemirror_mode": {
    "name": "ipython",
    "version": 3
   },
   "file_extension": ".py",
   "mimetype": "text/x-python",
   "name": "python",
   "nbconvert_exporter": "python",
   "pygments_lexer": "ipython3",
   "version": "3.8.1"
  }
 },
 "nbformat": 4,
 "nbformat_minor": 2
}
